{
 "cells": [
  {
   "cell_type": "markdown",
   "id": "792135ed",
   "metadata": {},
   "source": [
    "# Training the algo"
   ]
  },
  {
   "cell_type": "code",
   "execution_count": 140,
   "id": "4fb44538",
   "metadata": {},
   "outputs": [
    {
     "name": "stdout",
     "output_type": "stream",
     "text": [
      "Requirement already satisfied: pandas-datareader in /Users/chiranjeetmishra/opt/anaconda3/lib/python3.8/site-packages (0.10.0)\n",
      "Requirement already satisfied: pandas>=0.23 in /Users/chiranjeetmishra/opt/anaconda3/lib/python3.8/site-packages (from pandas-datareader) (1.2.4)\n",
      "Requirement already satisfied: requests>=2.19.0 in /Users/chiranjeetmishra/opt/anaconda3/lib/python3.8/site-packages (from pandas-datareader) (2.25.1)\n",
      "Requirement already satisfied: lxml in /Users/chiranjeetmishra/opt/anaconda3/lib/python3.8/site-packages (from pandas-datareader) (4.6.3)\n",
      "Requirement already satisfied: python-dateutil>=2.7.3 in /Users/chiranjeetmishra/opt/anaconda3/lib/python3.8/site-packages (from pandas>=0.23->pandas-datareader) (2.8.1)\n",
      "Requirement already satisfied: pytz>=2017.3 in /Users/chiranjeetmishra/opt/anaconda3/lib/python3.8/site-packages (from pandas>=0.23->pandas-datareader) (2021.1)\n",
      "Requirement already satisfied: numpy>=1.16.5 in /Users/chiranjeetmishra/opt/anaconda3/lib/python3.8/site-packages (from pandas>=0.23->pandas-datareader) (1.19.5)\n",
      "Requirement already satisfied: six>=1.5 in /Users/chiranjeetmishra/opt/anaconda3/lib/python3.8/site-packages (from python-dateutil>=2.7.3->pandas>=0.23->pandas-datareader) (1.15.0)\n",
      "Requirement already satisfied: urllib3<1.27,>=1.21.1 in /Users/chiranjeetmishra/opt/anaconda3/lib/python3.8/site-packages (from requests>=2.19.0->pandas-datareader) (1.26.4)\n",
      "Requirement already satisfied: chardet<5,>=3.0.2 in /Users/chiranjeetmishra/opt/anaconda3/lib/python3.8/site-packages (from requests>=2.19.0->pandas-datareader) (4.0.0)\n",
      "Requirement already satisfied: idna<3,>=2.5 in /Users/chiranjeetmishra/opt/anaconda3/lib/python3.8/site-packages (from requests>=2.19.0->pandas-datareader) (2.10)\n",
      "Requirement already satisfied: certifi>=2017.4.17 in /Users/chiranjeetmishra/opt/anaconda3/lib/python3.8/site-packages (from requests>=2.19.0->pandas-datareader) (2020.12.5)\n",
      "Requirement already satisfied: yfinance in /Users/chiranjeetmishra/opt/anaconda3/lib/python3.8/site-packages (0.1.59)\n",
      "Requirement already satisfied: requests>=2.20 in /Users/chiranjeetmishra/opt/anaconda3/lib/python3.8/site-packages (from yfinance) (2.25.1)\n",
      "Requirement already satisfied: numpy>=1.15 in /Users/chiranjeetmishra/opt/anaconda3/lib/python3.8/site-packages (from yfinance) (1.19.5)\n",
      "Requirement already satisfied: pandas>=0.24 in /Users/chiranjeetmishra/opt/anaconda3/lib/python3.8/site-packages (from yfinance) (1.2.4)\n",
      "Requirement already satisfied: lxml>=4.5.1 in /Users/chiranjeetmishra/opt/anaconda3/lib/python3.8/site-packages (from yfinance) (4.6.3)\n",
      "Requirement already satisfied: multitasking>=0.0.7 in /Users/chiranjeetmishra/opt/anaconda3/lib/python3.8/site-packages (from yfinance) (0.0.9)\n",
      "Requirement already satisfied: python-dateutil>=2.7.3 in /Users/chiranjeetmishra/opt/anaconda3/lib/python3.8/site-packages (from pandas>=0.24->yfinance) (2.8.1)\n",
      "Requirement already satisfied: pytz>=2017.3 in /Users/chiranjeetmishra/opt/anaconda3/lib/python3.8/site-packages (from pandas>=0.24->yfinance) (2021.1)\n",
      "Requirement already satisfied: six>=1.5 in /Users/chiranjeetmishra/opt/anaconda3/lib/python3.8/site-packages (from python-dateutil>=2.7.3->pandas>=0.24->yfinance) (1.15.0)\n",
      "Requirement already satisfied: certifi>=2017.4.17 in /Users/chiranjeetmishra/opt/anaconda3/lib/python3.8/site-packages (from requests>=2.20->yfinance) (2020.12.5)\n",
      "Requirement already satisfied: chardet<5,>=3.0.2 in /Users/chiranjeetmishra/opt/anaconda3/lib/python3.8/site-packages (from requests>=2.20->yfinance) (4.0.0)\n",
      "Requirement already satisfied: urllib3<1.27,>=1.21.1 in /Users/chiranjeetmishra/opt/anaconda3/lib/python3.8/site-packages (from requests>=2.20->yfinance) (1.26.4)\n",
      "Requirement already satisfied: idna<3,>=2.5 in /Users/chiranjeetmishra/opt/anaconda3/lib/python3.8/site-packages (from requests>=2.20->yfinance) (2.10)\n",
      "Requirement already satisfied: yahoofinancials in /Users/chiranjeetmishra/opt/anaconda3/lib/python3.8/site-packages (1.6)\n",
      "Requirement already satisfied: pytz in /Users/chiranjeetmishra/opt/anaconda3/lib/python3.8/site-packages (from yahoofinancials) (2021.1)\n",
      "Requirement already satisfied: beautifulsoup4 in /Users/chiranjeetmishra/opt/anaconda3/lib/python3.8/site-packages (from yahoofinancials) (4.9.3)\n",
      "Requirement already satisfied: soupsieve>1.2 in /Users/chiranjeetmishra/opt/anaconda3/lib/python3.8/site-packages (from beautifulsoup4->yahoofinancials) (2.2.1)\n"
     ]
    }
   ],
   "source": [
    "!pip install pandas-datareader\n",
    "!pip install yfinance \n",
    "!pip install yahoofinancials"
   ]
  },
  {
   "cell_type": "code",
   "execution_count": 141,
   "id": "91b3e01d",
   "metadata": {},
   "outputs": [],
   "source": [
    "import pandas_datareader.data as web\n",
    "import yfinance as yf\n",
    "import pandas as pd\n",
    "import numpy as np\n",
    "from yahoofinancials import YahooFinancials\n",
    "import matplotlib.pyplot as plt\n",
    "%matplotlib inline"
   ]
  },
  {
   "cell_type": "code",
   "execution_count": 178,
   "id": "c337fe55",
   "metadata": {},
   "outputs": [],
   "source": [
    "stocks= ['SBIN.NS','TATAPOWER.NS','ADANIPOWER.BO','INFY.BO','HCLTECH.NS','COALINDIA.NS']\n",
    "\n",
    "data=web.DataReader(stocks,data_source='yahoo',start='04/01/2015',end='31/03/2017')['Adj Close']"
   ]
  },
  {
   "cell_type": "code",
   "execution_count": 179,
   "id": "4ce1cb8f",
   "metadata": {},
   "outputs": [
    {
     "data": {
      "text/html": [
       "<div>\n",
       "<style scoped>\n",
       "    .dataframe tbody tr th:only-of-type {\n",
       "        vertical-align: middle;\n",
       "    }\n",
       "\n",
       "    .dataframe tbody tr th {\n",
       "        vertical-align: top;\n",
       "    }\n",
       "\n",
       "    .dataframe thead th {\n",
       "        text-align: right;\n",
       "    }\n",
       "</style>\n",
       "<table border=\"1\" class=\"dataframe\">\n",
       "  <thead>\n",
       "    <tr style=\"text-align: right;\">\n",
       "      <th>Symbols</th>\n",
       "      <th>SBIN.NS</th>\n",
       "      <th>TATAPOWER.NS</th>\n",
       "      <th>ADANIPOWER.BO</th>\n",
       "      <th>INFY.BO</th>\n",
       "      <th>HCLTECH.NS</th>\n",
       "      <th>COALINDIA.NS</th>\n",
       "    </tr>\n",
       "    <tr>\n",
       "      <th>Date</th>\n",
       "      <th></th>\n",
       "      <th></th>\n",
       "      <th></th>\n",
       "      <th></th>\n",
       "      <th></th>\n",
       "      <th></th>\n",
       "    </tr>\n",
       "  </thead>\n",
       "  <tbody>\n",
       "    <tr>\n",
       "      <th>2015-04-01</th>\n",
       "      <td>261.734772</td>\n",
       "      <td>64.117012</td>\n",
       "      <td>47.750000</td>\n",
       "      <td>457.418243</td>\n",
       "      <td>419.203461</td>\n",
       "      <td>227.381699</td>\n",
       "    </tr>\n",
       "    <tr>\n",
       "      <th>2015-04-06</th>\n",
       "      <td>262.883392</td>\n",
       "      <td>63.910187</td>\n",
       "      <td>47.400002</td>\n",
       "      <td>458.460571</td>\n",
       "      <td>415.282562</td>\n",
       "      <td>225.972336</td>\n",
       "    </tr>\n",
       "    <tr>\n",
       "      <th>2015-04-07</th>\n",
       "      <td>260.394714</td>\n",
       "      <td>64.861603</td>\n",
       "      <td>48.599998</td>\n",
       "      <td>455.101959</td>\n",
       "      <td>416.396515</td>\n",
       "      <td>225.251968</td>\n",
       "    </tr>\n",
       "    <tr>\n",
       "      <th>2015-04-08</th>\n",
       "      <td>262.165466</td>\n",
       "      <td>63.992916</td>\n",
       "      <td>48.599998</td>\n",
       "      <td>463.430145</td>\n",
       "      <td>427.223541</td>\n",
       "      <td>238.249725</td>\n",
       "    </tr>\n",
       "    <tr>\n",
       "      <th>2015-04-09</th>\n",
       "      <td>268.817749</td>\n",
       "      <td>64.820236</td>\n",
       "      <td>49.400002</td>\n",
       "      <td>465.662201</td>\n",
       "      <td>429.585022</td>\n",
       "      <td>242.383926</td>\n",
       "    </tr>\n",
       "    <tr>\n",
       "      <th>...</th>\n",
       "      <td>...</td>\n",
       "      <td>...</td>\n",
       "      <td>...</td>\n",
       "      <td>...</td>\n",
       "      <td>...</td>\n",
       "      <td>...</td>\n",
       "    </tr>\n",
       "    <tr>\n",
       "      <th>2017-03-27</th>\n",
       "      <td>274.411957</td>\n",
       "      <td>74.720741</td>\n",
       "      <td>39.099998</td>\n",
       "      <td>453.868958</td>\n",
       "      <td>400.490417</td>\n",
       "      <td>212.345291</td>\n",
       "    </tr>\n",
       "    <tr>\n",
       "      <th>2017-03-28</th>\n",
       "      <td>277.014160</td>\n",
       "      <td>76.004601</td>\n",
       "      <td>39.900002</td>\n",
       "      <td>456.648193</td>\n",
       "      <td>404.132690</td>\n",
       "      <td>211.507584</td>\n",
       "    </tr>\n",
       "    <tr>\n",
       "      <th>2017-03-29</th>\n",
       "      <td>283.249695</td>\n",
       "      <td>77.031700</td>\n",
       "      <td>40.000000</td>\n",
       "      <td>454.993835</td>\n",
       "      <td>412.451233</td>\n",
       "      <td>214.239288</td>\n",
       "    </tr>\n",
       "    <tr>\n",
       "      <th>2017-03-30</th>\n",
       "      <td>285.802795</td>\n",
       "      <td>76.946106</td>\n",
       "      <td>39.900002</td>\n",
       "      <td>451.971924</td>\n",
       "      <td>411.628815</td>\n",
       "      <td>210.888397</td>\n",
       "    </tr>\n",
       "    <tr>\n",
       "      <th>2017-03-31</th>\n",
       "      <td>288.110443</td>\n",
       "      <td>77.331268</td>\n",
       "      <td>39.950001</td>\n",
       "      <td>450.339569</td>\n",
       "      <td>411.111816</td>\n",
       "      <td>213.183029</td>\n",
       "    </tr>\n",
       "  </tbody>\n",
       "</table>\n",
       "<p>493 rows × 6 columns</p>\n",
       "</div>"
      ],
      "text/plain": [
       "Symbols        SBIN.NS  TATAPOWER.NS  ADANIPOWER.BO     INFY.BO  HCLTECH.NS  \\\n",
       "Date                                                                          \n",
       "2015-04-01  261.734772     64.117012      47.750000  457.418243  419.203461   \n",
       "2015-04-06  262.883392     63.910187      47.400002  458.460571  415.282562   \n",
       "2015-04-07  260.394714     64.861603      48.599998  455.101959  416.396515   \n",
       "2015-04-08  262.165466     63.992916      48.599998  463.430145  427.223541   \n",
       "2015-04-09  268.817749     64.820236      49.400002  465.662201  429.585022   \n",
       "...                ...           ...            ...         ...         ...   \n",
       "2017-03-27  274.411957     74.720741      39.099998  453.868958  400.490417   \n",
       "2017-03-28  277.014160     76.004601      39.900002  456.648193  404.132690   \n",
       "2017-03-29  283.249695     77.031700      40.000000  454.993835  412.451233   \n",
       "2017-03-30  285.802795     76.946106      39.900002  451.971924  411.628815   \n",
       "2017-03-31  288.110443     77.331268      39.950001  450.339569  411.111816   \n",
       "\n",
       "Symbols     COALINDIA.NS  \n",
       "Date                      \n",
       "2015-04-01    227.381699  \n",
       "2015-04-06    225.972336  \n",
       "2015-04-07    225.251968  \n",
       "2015-04-08    238.249725  \n",
       "2015-04-09    242.383926  \n",
       "...                  ...  \n",
       "2017-03-27    212.345291  \n",
       "2017-03-28    211.507584  \n",
       "2017-03-29    214.239288  \n",
       "2017-03-30    210.888397  \n",
       "2017-03-31    213.183029  \n",
       "\n",
       "[493 rows x 6 columns]"
      ]
     },
     "execution_count": 179,
     "metadata": {},
     "output_type": "execute_result"
    }
   ],
   "source": [
    "data"
   ]
  },
  {
   "cell_type": "code",
   "execution_count": 180,
   "id": "4cd127ba",
   "metadata": {},
   "outputs": [
    {
     "data": {
      "text/html": [
       "<div>\n",
       "<style scoped>\n",
       "    .dataframe tbody tr th:only-of-type {\n",
       "        vertical-align: middle;\n",
       "    }\n",
       "\n",
       "    .dataframe tbody tr th {\n",
       "        vertical-align: top;\n",
       "    }\n",
       "\n",
       "    .dataframe thead th {\n",
       "        text-align: right;\n",
       "    }\n",
       "</style>\n",
       "<table border=\"1\" class=\"dataframe\">\n",
       "  <thead>\n",
       "    <tr style=\"text-align: right;\">\n",
       "      <th>Symbols</th>\n",
       "      <th>SBIN.NS</th>\n",
       "      <th>TATAPOWER.NS</th>\n",
       "      <th>ADANIPOWER.BO</th>\n",
       "      <th>INFY.BO</th>\n",
       "      <th>HCLTECH.NS</th>\n",
       "      <th>COALINDIA.NS</th>\n",
       "    </tr>\n",
       "    <tr>\n",
       "      <th>Date</th>\n",
       "      <th></th>\n",
       "      <th></th>\n",
       "      <th></th>\n",
       "      <th></th>\n",
       "      <th></th>\n",
       "      <th></th>\n",
       "    </tr>\n",
       "  </thead>\n",
       "  <tbody>\n",
       "    <tr>\n",
       "      <th>2015-04-01</th>\n",
       "      <td>NaN</td>\n",
       "      <td>NaN</td>\n",
       "      <td>NaN</td>\n",
       "      <td>NaN</td>\n",
       "      <td>NaN</td>\n",
       "      <td>NaN</td>\n",
       "    </tr>\n",
       "    <tr>\n",
       "      <th>2015-04-06</th>\n",
       "      <td>0.004388</td>\n",
       "      <td>-0.003226</td>\n",
       "      <td>-0.007330</td>\n",
       "      <td>0.002279</td>\n",
       "      <td>-0.009353</td>\n",
       "      <td>-0.006198</td>\n",
       "    </tr>\n",
       "    <tr>\n",
       "      <th>2015-04-07</th>\n",
       "      <td>-0.009467</td>\n",
       "      <td>0.014887</td>\n",
       "      <td>0.025316</td>\n",
       "      <td>-0.007326</td>\n",
       "      <td>0.002682</td>\n",
       "      <td>-0.003188</td>\n",
       "    </tr>\n",
       "    <tr>\n",
       "      <th>2015-04-08</th>\n",
       "      <td>0.006800</td>\n",
       "      <td>-0.013393</td>\n",
       "      <td>0.000000</td>\n",
       "      <td>0.018300</td>\n",
       "      <td>0.026002</td>\n",
       "      <td>0.057703</td>\n",
       "    </tr>\n",
       "    <tr>\n",
       "      <th>2015-04-09</th>\n",
       "      <td>0.025374</td>\n",
       "      <td>0.012928</td>\n",
       "      <td>0.016461</td>\n",
       "      <td>0.004816</td>\n",
       "      <td>0.005528</td>\n",
       "      <td>0.017352</td>\n",
       "    </tr>\n",
       "  </tbody>\n",
       "</table>\n",
       "</div>"
      ],
      "text/plain": [
       "Symbols      SBIN.NS  TATAPOWER.NS  ADANIPOWER.BO   INFY.BO  HCLTECH.NS  \\\n",
       "Date                                                                      \n",
       "2015-04-01       NaN           NaN            NaN       NaN         NaN   \n",
       "2015-04-06  0.004388     -0.003226      -0.007330  0.002279   -0.009353   \n",
       "2015-04-07 -0.009467      0.014887       0.025316 -0.007326    0.002682   \n",
       "2015-04-08  0.006800     -0.013393       0.000000  0.018300    0.026002   \n",
       "2015-04-09  0.025374      0.012928       0.016461  0.004816    0.005528   \n",
       "\n",
       "Symbols     COALINDIA.NS  \n",
       "Date                      \n",
       "2015-04-01           NaN  \n",
       "2015-04-06     -0.006198  \n",
       "2015-04-07     -0.003188  \n",
       "2015-04-08      0.057703  \n",
       "2015-04-09      0.017352  "
      ]
     },
     "execution_count": 180,
     "metadata": {},
     "output_type": "execute_result"
    }
   ],
   "source": [
    "returns_portfolio=data.pct_change()\n",
    "returns_portfolio.head()"
   ]
  },
  {
   "cell_type": "code",
   "execution_count": 181,
   "id": "4191072e",
   "metadata": {},
   "outputs": [],
   "source": [
    "# weight_portfolio_1=[0.2,0.4,0.1,0.1,0.1,0.1]\n",
    "# portfolio_return=returns_portfolio.dot(weight_portfolio_1)\n",
    "# portfolio_return.head()"
   ]
  },
  {
   "cell_type": "code",
   "execution_count": 182,
   "id": "95c59863",
   "metadata": {},
   "outputs": [
    {
     "data": {
      "text/plain": [
       "Symbols\n",
       "SBIN.NS          0.000421\n",
       "TATAPOWER.NS     0.000534\n",
       "ADANIPOWER.BO    0.000049\n",
       "INFY.BO          0.000086\n",
       "HCLTECH.NS       0.000104\n",
       "COALINDIA.NS     0.000010\n",
       "dtype: float64"
      ]
     },
     "execution_count": 182,
     "metadata": {},
     "output_type": "execute_result"
    }
   ],
   "source": [
    "mean_daily_returns = returns_portfolio.mean()\n",
    "mean_daily_returns"
   ]
  },
  {
   "cell_type": "code",
   "execution_count": 183,
   "id": "b9e910ac",
   "metadata": {},
   "outputs": [],
   "source": [
    "variance_matrix=returns_portfolio.cov()"
   ]
  },
  {
   "cell_type": "code",
   "execution_count": 116,
   "id": "c0c74657",
   "metadata": {},
   "outputs": [],
   "source": [
    "# portfolio_final_return=round(np.sum(mean_daily_returns * weight_portfolio) * 246,2)\n",
    "# portfolio_final_return=round(mean_daily_returns*246,2)"
   ]
  },
  {
   "cell_type": "code",
   "execution_count": 117,
   "id": "2508efd6",
   "metadata": {},
   "outputs": [],
   "source": [
    "# return_stdev = portfolio_return.std()\n",
    "# volatility= round(return_stdev * np.sqrt(246),2)"
   ]
  },
  {
   "cell_type": "code",
   "execution_count": 118,
   "id": "dc23f031",
   "metadata": {},
   "outputs": [],
   "source": [
    "# portfolio_variance=np.transpose(weight_portfolio)@variance_matrix@weight_portfolio\n",
    "# # portfolio_volatility=np.sqrt(portfolio_variance)"
   ]
  },
  {
   "cell_type": "code",
   "execution_count": 119,
   "id": "16b6f97c",
   "metadata": {},
   "outputs": [
    {
     "name": "stdout",
     "output_type": "stream",
     "text": [
      "the portfolio variance is  0.05813982108019434\n",
      "The portfolio volatility is 0.23\n",
      "The portfolio return is -0.12\n"
     ]
    }
   ],
   "source": [
    "# print(\"the portfolio variance is \",portfolio_variance)\n",
    "# print(\"The portfolio volatility is\",volatility)\n",
    "# print(\"The portfolio return is\",portfolio_final_return)"
   ]
  },
  {
   "cell_type": "code",
   "execution_count": 184,
   "id": "08d88c5b",
   "metadata": {},
   "outputs": [],
   "source": [
    "port_returns=[]\n",
    "port_volatility=[]\n",
    "port_weights=[]\n",
    "num_assets=len(data.columns)\n",
    "num_portfolios=50000\n",
    "individual_rets = data.resample('Y').last().pct_change().mean()"
   ]
  },
  {
   "cell_type": "code",
   "execution_count": 185,
   "id": "c9172708",
   "metadata": {},
   "outputs": [],
   "source": [
    "for port in range(num_portfolios):\n",
    "    weights=np.random.random(num_assets)\n",
    "    weights=weights/np.sum(weights)\n",
    "    port_weights.append(weights)\n",
    "    returns=np.dot(weights,individual_rets)\n",
    "    port_returns.append(returns)\n",
    "    var=variance_matrix.mul(weights,axis=0).mul(weights,axis=1).sum().sum()\n",
    "    sd=np.sqrt(var)\n",
    "    ann_sd=sd*np.sqrt(493)\n",
    "    port_volatility.append(ann_sd)"
   ]
  },
  {
   "cell_type": "code",
   "execution_count": null,
   "id": "03afc7b4",
   "metadata": {},
   "outputs": [],
   "source": [
    "# weight_portfolio=0\n",
    "# portfolio_final_return=0\n",
    "# portfolio_volatility=0\n"
   ]
  },
  {
   "cell_type": "code",
   "execution_count": 107,
   "id": "838d7ce5",
   "metadata": {},
   "outputs": [],
   "source": [
    "# results=np.zeros((4+len(stocks)-1,num_portfolios))"
   ]
  },
  {
   "cell_type": "code",
   "execution_count": 108,
   "id": "7195ebec",
   "metadata": {},
   "outputs": [],
   "source": [
    "# for i in range(num_portfolios):\n",
    "#     weight_portfolio=np.random.random(6)\n",
    "#     weight_portfolio /= np.sum(weight_portfolio)\n",
    "#     portfolio_final_return=np.sum(mean_daily_returns*weight_portfolio)*246\n",
    "#     portfolio_volatility=np.sqrt(np.dot(weight_portfolio.T,np.dot(variance_matrix,weight_portfolio)))*np.sqrt(246)\n",
    "#     results[0,i] = portfolio_final_return\n",
    "#     results[1,i] = portfolio_volatility\n",
    "#     results[2,i] = results[0,i] / results[1,i]\n",
    "    \n",
    "#     for j in range(len(weight_portfolio)):\n",
    "#         results[j+3,i] = weight_portfolio[j]\n",
    "# results_frame = pd.DataFrame(results.T,columns=['ret','stdev','sharpe',stocks[0],stocks[1],stocks[2],stocks[3],stocks[4],stocks[5]])\n",
    "# max_sharpe_port = results_frame.iloc[results_frame['sharpe'].idxmax()]\n",
    "# min_vol_port = results_frame.iloc[results_frame['stdev'].idxmin()]\n",
    "    "
   ]
  },
  {
   "cell_type": "code",
   "execution_count": 186,
   "id": "9da6be6e",
   "metadata": {},
   "outputs": [
    {
     "data": {
      "text/plain": [
       "50000"
      ]
     },
     "execution_count": 186,
     "metadata": {},
     "output_type": "execute_result"
    }
   ],
   "source": [
    "len(port_returns)"
   ]
  },
  {
   "cell_type": "code",
   "execution_count": 187,
   "id": "082c9b5f",
   "metadata": {},
   "outputs": [],
   "source": [
    "data_final={'Returns':port_returns, 'Volatility':port_volatility}\n",
    "\n",
    "for counter, symbol in enumerate(data.columns.tolist()):\n",
    "    data_final[symbol+'weight']=[w[counter] for w in port_weights]"
   ]
  },
  {
   "cell_type": "code",
   "execution_count": 188,
   "id": "e527e31e",
   "metadata": {},
   "outputs": [
    {
     "data": {
      "text/html": [
       "<div>\n",
       "<style scoped>\n",
       "    .dataframe tbody tr th:only-of-type {\n",
       "        vertical-align: middle;\n",
       "    }\n",
       "\n",
       "    .dataframe tbody tr th {\n",
       "        vertical-align: top;\n",
       "    }\n",
       "\n",
       "    .dataframe thead th {\n",
       "        text-align: right;\n",
       "    }\n",
       "</style>\n",
       "<table border=\"1\" class=\"dataframe\">\n",
       "  <thead>\n",
       "    <tr style=\"text-align: right;\">\n",
       "      <th></th>\n",
       "      <th>Returns</th>\n",
       "      <th>Volatility</th>\n",
       "      <th>SBIN.NSweight</th>\n",
       "      <th>TATAPOWER.NSweight</th>\n",
       "      <th>ADANIPOWER.BOweight</th>\n",
       "      <th>INFY.BOweight</th>\n",
       "      <th>HCLTECH.NSweight</th>\n",
       "      <th>COALINDIA.NSweight</th>\n",
       "    </tr>\n",
       "  </thead>\n",
       "  <tbody>\n",
       "    <tr>\n",
       "      <th>0</th>\n",
       "      <td>0.057747</td>\n",
       "      <td>0.244096</td>\n",
       "      <td>0.078971</td>\n",
       "      <td>0.214142</td>\n",
       "      <td>0.066529</td>\n",
       "      <td>0.258280</td>\n",
       "      <td>0.199427</td>\n",
       "      <td>0.182652</td>\n",
       "    </tr>\n",
       "    <tr>\n",
       "      <th>1</th>\n",
       "      <td>0.091630</td>\n",
       "      <td>0.304508</td>\n",
       "      <td>0.026280</td>\n",
       "      <td>0.278677</td>\n",
       "      <td>0.245602</td>\n",
       "      <td>0.006506</td>\n",
       "      <td>0.208148</td>\n",
       "      <td>0.234786</td>\n",
       "    </tr>\n",
       "    <tr>\n",
       "      <th>2</th>\n",
       "      <td>0.100914</td>\n",
       "      <td>0.329600</td>\n",
       "      <td>0.269288</td>\n",
       "      <td>0.116510</td>\n",
       "      <td>0.258762</td>\n",
       "      <td>0.007479</td>\n",
       "      <td>0.138286</td>\n",
       "      <td>0.209674</td>\n",
       "    </tr>\n",
       "    <tr>\n",
       "      <th>3</th>\n",
       "      <td>0.124060</td>\n",
       "      <td>0.313107</td>\n",
       "      <td>0.425425</td>\n",
       "      <td>0.356579</td>\n",
       "      <td>0.018857</td>\n",
       "      <td>0.120691</td>\n",
       "      <td>0.070825</td>\n",
       "      <td>0.007623</td>\n",
       "    </tr>\n",
       "    <tr>\n",
       "      <th>4</th>\n",
       "      <td>0.090928</td>\n",
       "      <td>0.329738</td>\n",
       "      <td>0.244054</td>\n",
       "      <td>0.105213</td>\n",
       "      <td>0.272196</td>\n",
       "      <td>0.112010</td>\n",
       "      <td>0.011304</td>\n",
       "      <td>0.255223</td>\n",
       "    </tr>\n",
       "  </tbody>\n",
       "</table>\n",
       "</div>"
      ],
      "text/plain": [
       "    Returns  Volatility  SBIN.NSweight  TATAPOWER.NSweight  \\\n",
       "0  0.057747    0.244096       0.078971            0.214142   \n",
       "1  0.091630    0.304508       0.026280            0.278677   \n",
       "2  0.100914    0.329600       0.269288            0.116510   \n",
       "3  0.124060    0.313107       0.425425            0.356579   \n",
       "4  0.090928    0.329738       0.244054            0.105213   \n",
       "\n",
       "   ADANIPOWER.BOweight  INFY.BOweight  HCLTECH.NSweight  COALINDIA.NSweight  \n",
       "0             0.066529       0.258280          0.199427            0.182652  \n",
       "1             0.245602       0.006506          0.208148            0.234786  \n",
       "2             0.258762       0.007479          0.138286            0.209674  \n",
       "3             0.018857       0.120691          0.070825            0.007623  \n",
       "4             0.272196       0.112010          0.011304            0.255223  "
      ]
     },
     "execution_count": 188,
     "metadata": {},
     "output_type": "execute_result"
    }
   ],
   "source": [
    "portfolios_V1 = pd.DataFrame(data_final)\n",
    "portfolios_V1.head()"
   ]
  },
  {
   "cell_type": "code",
   "execution_count": 165,
   "id": "f261c150",
   "metadata": {},
   "outputs": [],
   "source": [
    "# results_frame"
   ]
  },
  {
   "cell_type": "code",
   "execution_count": 189,
   "id": "c157954a",
   "metadata": {},
   "outputs": [
    {
     "data": {
      "text/plain": [
       "Text(0, 0.5, 'Expected Returns')"
      ]
     },
     "execution_count": 189,
     "metadata": {},
     "output_type": "execute_result"
    },
    {
     "data": {
      "image/png": "[encoded data removed]",
      "text/plain": [
       "<Figure size 576x576 with 1 Axes>"
      ]
     },
     "metadata": {
      "needs_background": "light"
     },
     "output_type": "display_data"
    }
   ],
   "source": [
    "portfolios_V1.plot.scatter(x=\"Volatility\", y='Returns', marker='o',color='b',s=15,alpha=0.5,grid=True,figsize=[8,8])\n",
    "plt.xlabel(\"Risk\")\n",
    "plt.ylabel(\"Expected Returns\")"
   ]
  },
  {
   "cell_type": "code",
   "execution_count": 83,
   "id": "60e49b43",
   "metadata": {},
   "outputs": [
    {
     "data": {
      "text/plain": [
       "<matplotlib.collections.PathCollection at 0x7ff41358cb20>"
      ]
     },
     "execution_count": 83,
     "metadata": {},
     "output_type": "execute_result"
    },
    {
     "data": {
      "image/png": "[encoded data removed]",
      "text/plain": [
       "<Figure size 432x288 with 2 Axes>"
      ]
     },
     "metadata": {
      "needs_background": "light"
     },
     "output_type": "display_data"
    }
   ],
   "source": [
    "# plt.scatter(results_frame.stdev,results_frame.ret,c=results_frame.sharpe,cmap='RdYlBu')\n",
    "# plt.xlabel('Volatility')\n",
    "# plt.ylabel('Returns')\n",
    "# plt.colorbar()\n",
    "# plt.scatter(max_sharpe_port[1],max_sharpe_port[0],marker=(5,1,0),color='r',s=1000)\n",
    "# plt.scatter(min_vol_port[1],min_vol_port[0],marker=(5,1,0),color='g',s=1000)\n"
   ]
  },
  {
   "cell_type": "code",
   "execution_count": 194,
   "id": "4e9e778b",
   "metadata": {},
   "outputs": [
    {
     "data": {
      "text/plain": [
       "Returns                0.045523\n",
       "Volatility             0.235224\n",
       "SBIN.NSweight          0.067572\n",
       "TATAPOWER.NSweight     0.208383\n",
       "ADANIPOWER.BOweight    0.000216\n",
       "INFY.BOweight          0.296193\n",
       "HCLTECH.NSweight       0.158488\n",
       "COALINDIA.NSweight     0.269148\n",
       "Name: 18821, dtype: float64"
      ]
     },
     "execution_count": 194,
     "metadata": {},
     "output_type": "execute_result"
    }
   ],
   "source": [
    "min_vol_port=portfolios_V1.iloc[portfolios_V1[\"Volatility\"].idxmin()]\n",
    "min_vol_port"
   ]
  },
  {
   "cell_type": "code",
   "execution_count": 191,
   "id": "f0e75f7c",
   "metadata": {},
   "outputs": [
    {
     "data": {
      "text/plain": [
       "Returns                0.148288\n",
       "Volatility             0.340566\n",
       "SBIN.NSweight          0.346816\n",
       "TATAPOWER.NSweight     0.549388\n",
       "ADANIPOWER.BOweight    0.047925\n",
       "INFY.BOweight          0.028400\n",
       "HCLTECH.NSweight       0.011126\n",
       "COALINDIA.NSweight     0.016346\n",
       "Name: 36706, dtype: float64"
      ]
     },
     "execution_count": 191,
     "metadata": {},
     "output_type": "execute_result"
    }
   ],
   "source": [
    "rf=0.01\n",
    "optimal_risky_port=portfolios_V1.iloc[((portfolios_V1['Returns']-rf)/portfolios_V1['Volatility']).idxmax()]\n",
    "optimal_risky_port"
   ]
  },
  {
   "cell_type": "code",
   "execution_count": 213,
   "id": "15b22887",
   "metadata": {},
   "outputs": [
    {
     "data": {
      "text/plain": [
       "Text(0, 0.5, 'Expected Returns')"
      ]
     },
     "execution_count": 213,
     "metadata": {},
     "output_type": "execute_result"
    },
    {
     "data": {
      "image/png": "[encoded data removed]",
      "text/plain": [
       "<Figure size 576x576 with 1 Axes>"
      ]
     },
     "metadata": {
      "needs_background": "light"
     },
     "output_type": "display_data"
    }
   ],
   "source": [
    "plt.subplots(figsize=(8,8))\n",
    "plt.scatter(portfolios_V1[\"Volatility\"],portfolios_V1[\"Returns\"],marker='o',s=10,alpha=0.3,color='g')\n",
    "plt.scatter(min_vol_port[1],min_vol_port[0],color='r',marker='+',s=1500)\n",
    "plt.scatter(optimal_risky_port[1],optimal_risky_port[0],color='b',marker='+',s=1500)\n",
    "plt.xlabel(\"Risk\")\n",
    "plt.ylabel(\"Expected Returns\")"
   ]
  },
  {
   "cell_type": "markdown",
   "id": "e64260c2",
   "metadata": {},
   "source": [
    " # 1.) How did you choose the Stocks?\n",
    " \n",
    " ## In this I have choosen 6 stocks of which Tata Power and Adani Power are utilities stocks and it was mentioned in investopedia that the utilities stocks usually have beta <1\n",
    " ## Next SBI and Coal India are the stocks with beta = 1\n",
    " ## ANd finally the Infosys and HCL Technologies are the Technology based share and they usually have a Beta > 1"
   ]
  },
  {
   "cell_type": "markdown",
   "id": "1b477ffe",
   "metadata": {},
   "source": [
    "# 2.) What is the impact of increasing the number of stocks in the portfolio?\n",
    "\n",
    "## On increasing the number of stocks the risk or the volitility decreases but the weight of a particular stock also decreases "
   ]
  },
  {
   "cell_type": "markdown",
   "id": "a1f9ecb8",
   "metadata": {},
   "source": [
    "# 3.) Why are calculating the weights by optimization and not giving equal weightage to every stock?\n",
    "\n",
    "## The reason is that all the stocks don't provide the same return with same risk so we need to divide our money in such a way that we can maximize profits with less risk"
   ]
  },
  {
   "cell_type": "markdown",
   "id": "0bc432b3",
   "metadata": {},
   "source": [
    "# 4.) Which optimization techniques are used by Mutual Funds currently?\n",
    "\n",
    "## The Modern Portfolio Theory (MPT)"
   ]
  },
  {
   "cell_type": "markdown",
   "id": "aee09d63",
   "metadata": {},
   "source": [
    "# 5.) Which parameters are you using to check the accuracy of your model?\n",
    "\n",
    "## The Sharpe Factor and also the Jenson's Alpha"
   ]
  },
  {
   "cell_type": "code",
   "execution_count": null,
   "id": "ec0b2dc0",
   "metadata": {},
   "outputs": [],
   "source": []
  },
  {
   "cell_type": "markdown",
   "id": "f1ab5f09",
   "metadata": {},
   "source": [
    "# Testing the algo for next year"
   ]
  },
  {
   "cell_type": "code",
   "execution_count": 201,
   "id": "2c3c50c2",
   "metadata": {},
   "outputs": [
    {
     "data": {
      "text/plain": [
       "(246, 6)"
      ]
     },
     "execution_count": 201,
     "metadata": {},
     "output_type": "execute_result"
    }
   ],
   "source": [
    "stocks_test= ['SBIN.NS','TATAPOWER.NS','ADANIPOWER.BO','INFY.BO','HCLTECH.NS','COALINDIA.NS']\n",
    "\n",
    "data_test=web.DataReader(stocks,data_source='yahoo',start='04/01/2017',end='31/03/2018')['Adj Close']\n",
    "data_test.shape"
   ]
  },
  {
   "cell_type": "code",
   "execution_count": 196,
   "id": "cc47f870",
   "metadata": {},
   "outputs": [
    {
     "data": {
      "text/html": [
       "<div>\n",
       "<style scoped>\n",
       "    .dataframe tbody tr th:only-of-type {\n",
       "        vertical-align: middle;\n",
       "    }\n",
       "\n",
       "    .dataframe tbody tr th {\n",
       "        vertical-align: top;\n",
       "    }\n",
       "\n",
       "    .dataframe thead th {\n",
       "        text-align: right;\n",
       "    }\n",
       "</style>\n",
       "<table border=\"1\" class=\"dataframe\">\n",
       "  <thead>\n",
       "    <tr style=\"text-align: right;\">\n",
       "      <th>Symbols</th>\n",
       "      <th>SBIN.NS</th>\n",
       "      <th>TATAPOWER.NS</th>\n",
       "      <th>ADANIPOWER.BO</th>\n",
       "      <th>INFY.BO</th>\n",
       "      <th>HCLTECH.NS</th>\n",
       "      <th>COALINDIA.NS</th>\n",
       "    </tr>\n",
       "    <tr>\n",
       "      <th>Date</th>\n",
       "      <th></th>\n",
       "      <th></th>\n",
       "      <th></th>\n",
       "      <th></th>\n",
       "      <th></th>\n",
       "      <th></th>\n",
       "    </tr>\n",
       "  </thead>\n",
       "  <tbody>\n",
       "    <tr>\n",
       "      <th>2017-04-03</th>\n",
       "      <td>NaN</td>\n",
       "      <td>NaN</td>\n",
       "      <td>NaN</td>\n",
       "      <td>NaN</td>\n",
       "      <td>NaN</td>\n",
       "      <td>NaN</td>\n",
       "    </tr>\n",
       "    <tr>\n",
       "      <th>2017-04-05</th>\n",
       "      <td>0.014327</td>\n",
       "      <td>-0.011211</td>\n",
       "      <td>0.031902</td>\n",
       "      <td>-0.013918</td>\n",
       "      <td>-0.018182</td>\n",
       "      <td>-0.016780</td>\n",
       "    </tr>\n",
       "    <tr>\n",
       "      <th>2017-04-06</th>\n",
       "      <td>-0.015134</td>\n",
       "      <td>-0.010204</td>\n",
       "      <td>0.052319</td>\n",
       "      <td>0.003767</td>\n",
       "      <td>0.003528</td>\n",
       "      <td>-0.012584</td>\n",
       "    </tr>\n",
       "    <tr>\n",
       "      <th>2017-04-07</th>\n",
       "      <td>-0.011610</td>\n",
       "      <td>0.002291</td>\n",
       "      <td>-0.014689</td>\n",
       "      <td>-0.017915</td>\n",
       "      <td>-0.004921</td>\n",
       "      <td>-0.008729</td>\n",
       "    </tr>\n",
       "    <tr>\n",
       "      <th>2017-04-10</th>\n",
       "      <td>-0.000346</td>\n",
       "      <td>-0.005143</td>\n",
       "      <td>0.017202</td>\n",
       "      <td>-0.028841</td>\n",
       "      <td>-0.019133</td>\n",
       "      <td>0.010039</td>\n",
       "    </tr>\n",
       "  </tbody>\n",
       "</table>\n",
       "</div>"
      ],
      "text/plain": [
       "Symbols      SBIN.NS  TATAPOWER.NS  ADANIPOWER.BO   INFY.BO  HCLTECH.NS  \\\n",
       "Date                                                                      \n",
       "2017-04-03       NaN           NaN            NaN       NaN         NaN   \n",
       "2017-04-05  0.014327     -0.011211       0.031902 -0.013918   -0.018182   \n",
       "2017-04-06 -0.015134     -0.010204       0.052319  0.003767    0.003528   \n",
       "2017-04-07 -0.011610      0.002291      -0.014689 -0.017915   -0.004921   \n",
       "2017-04-10 -0.000346     -0.005143       0.017202 -0.028841   -0.019133   \n",
       "\n",
       "Symbols     COALINDIA.NS  \n",
       "Date                      \n",
       "2017-04-03           NaN  \n",
       "2017-04-05     -0.016780  \n",
       "2017-04-06     -0.012584  \n",
       "2017-04-07     -0.008729  \n",
       "2017-04-10      0.010039  "
      ]
     },
     "execution_count": 196,
     "metadata": {},
     "output_type": "execute_result"
    }
   ],
   "source": [
    "returns_portfolio_test=data.pct_change()\n",
    "returns_portfolio_test.head()"
   ]
  },
  {
   "cell_type": "code",
   "execution_count": 197,
   "id": "e210d132",
   "metadata": {},
   "outputs": [
    {
     "data": {
      "text/plain": [
       "Symbols\n",
       "SBIN.NS         -0.000336\n",
       "TATAPOWER.NS    -0.000314\n",
       "ADANIPOWER.BO   -0.001707\n",
       "INFY.BO          0.000697\n",
       "HCLTECH.NS       0.000594\n",
       "COALINDIA.NS     0.000167\n",
       "dtype: float64"
      ]
     },
     "execution_count": 197,
     "metadata": {},
     "output_type": "execute_result"
    }
   ],
   "source": [
    "mean_daily_returns_test = returns_portfolio_test.mean()\n",
    "mean_daily_returns_test"
   ]
  },
  {
   "cell_type": "code",
   "execution_count": 198,
   "id": "dc3480f1",
   "metadata": {},
   "outputs": [],
   "source": [
    "variance_matrix_test=returns_portfolio_test.cov()"
   ]
  },
  {
   "cell_type": "code",
   "execution_count": 200,
   "id": "fa8a7b87",
   "metadata": {},
   "outputs": [],
   "source": [
    "port_returns_test=[]\n",
    "port_volatility_test=[]\n",
    "port_weights_test=[]\n",
    "num_assets_test=len(data_test.columns)\n",
    "num_portfolios_test=50000\n",
    "individual_rets_test = data_test.resample('Y').last().pct_change().mean()"
   ]
  },
  {
   "cell_type": "code",
   "execution_count": 202,
   "id": "fbbacbb3",
   "metadata": {},
   "outputs": [],
   "source": [
    "for port in range(num_portfolios_test):\n",
    "    weights_test=np.random.random(num_assets_test)\n",
    "    weights_test=weights_test/np.sum(weights_test)\n",
    "    port_weights_test.append(weights_test)\n",
    "    returns_test=np.dot(weights_test,individual_rets_test)\n",
    "    port_returns_test.append(returns_test)\n",
    "    var_test=variance_matrix_test.mul(weights_test,axis=0).mul(weights_test,axis=1).sum().sum()\n",
    "    sd_test=np.sqrt(var_test)\n",
    "    ann_sd_test=sd_test*np.sqrt(246)\n",
    "    port_volatility_test.append(ann_sd_test)"
   ]
  },
  {
   "cell_type": "code",
   "execution_count": 203,
   "id": "091da889",
   "metadata": {},
   "outputs": [],
   "source": [
    "data_final_test={'Returns':port_returns_test, 'Volatility':port_volatility_test}\n",
    "\n",
    "for counter, symbol in enumerate(data_test.columns.tolist()):\n",
    "    data_final_test[symbol+'weight']=[w[counter] for w in port_weights_test]"
   ]
  },
  {
   "cell_type": "code",
   "execution_count": 204,
   "id": "164f0743",
   "metadata": {},
   "outputs": [
    {
     "data": {
      "text/html": [
       "<div>\n",
       "<style scoped>\n",
       "    .dataframe tbody tr th:only-of-type {\n",
       "        vertical-align: middle;\n",
       "    }\n",
       "\n",
       "    .dataframe tbody tr th {\n",
       "        vertical-align: top;\n",
       "    }\n",
       "\n",
       "    .dataframe thead th {\n",
       "        text-align: right;\n",
       "    }\n",
       "</style>\n",
       "<table border=\"1\" class=\"dataframe\">\n",
       "  <thead>\n",
       "    <tr style=\"text-align: right;\">\n",
       "      <th></th>\n",
       "      <th>Returns</th>\n",
       "      <th>Volatility</th>\n",
       "      <th>SBIN.NSweight</th>\n",
       "      <th>TATAPOWER.NSweight</th>\n",
       "      <th>ADANIPOWER.BOweight</th>\n",
       "      <th>INFY.BOweight</th>\n",
       "      <th>HCLTECH.NSweight</th>\n",
       "      <th>COALINDIA.NSweight</th>\n",
       "    </tr>\n",
       "  </thead>\n",
       "  <tbody>\n",
       "    <tr>\n",
       "      <th>0</th>\n",
       "      <td>-0.075498</td>\n",
       "      <td>0.171236</td>\n",
       "      <td>0.186632</td>\n",
       "      <td>0.092767</td>\n",
       "      <td>0.190920</td>\n",
       "      <td>0.128512</td>\n",
       "      <td>0.220359</td>\n",
       "      <td>0.180809</td>\n",
       "    </tr>\n",
       "    <tr>\n",
       "      <th>1</th>\n",
       "      <td>-0.148691</td>\n",
       "      <td>0.198562</td>\n",
       "      <td>0.186233</td>\n",
       "      <td>0.236300</td>\n",
       "      <td>0.251471</td>\n",
       "      <td>0.068545</td>\n",
       "      <td>0.205170</td>\n",
       "      <td>0.052282</td>\n",
       "    </tr>\n",
       "    <tr>\n",
       "      <th>2</th>\n",
       "      <td>-0.016897</td>\n",
       "      <td>0.144687</td>\n",
       "      <td>0.148188</td>\n",
       "      <td>0.160847</td>\n",
       "      <td>0.073927</td>\n",
       "      <td>0.238395</td>\n",
       "      <td>0.131393</td>\n",
       "      <td>0.247250</td>\n",
       "    </tr>\n",
       "    <tr>\n",
       "      <th>3</th>\n",
       "      <td>-0.065214</td>\n",
       "      <td>0.153011</td>\n",
       "      <td>0.201044</td>\n",
       "      <td>0.355630</td>\n",
       "      <td>0.028834</td>\n",
       "      <td>0.185662</td>\n",
       "      <td>0.156593</td>\n",
       "      <td>0.072236</td>\n",
       "    </tr>\n",
       "    <tr>\n",
       "      <th>4</th>\n",
       "      <td>-0.040861</td>\n",
       "      <td>0.153817</td>\n",
       "      <td>0.269085</td>\n",
       "      <td>0.185226</td>\n",
       "      <td>0.033305</td>\n",
       "      <td>0.067990</td>\n",
       "      <td>0.285959</td>\n",
       "      <td>0.158435</td>\n",
       "    </tr>\n",
       "  </tbody>\n",
       "</table>\n",
       "</div>"
      ],
      "text/plain": [
       "    Returns  Volatility  SBIN.NSweight  TATAPOWER.NSweight  \\\n",
       "0 -0.075498    0.171236       0.186632            0.092767   \n",
       "1 -0.148691    0.198562       0.186233            0.236300   \n",
       "2 -0.016897    0.144687       0.148188            0.160847   \n",
       "3 -0.065214    0.153011       0.201044            0.355630   \n",
       "4 -0.040861    0.153817       0.269085            0.185226   \n",
       "\n",
       "   ADANIPOWER.BOweight  INFY.BOweight  HCLTECH.NSweight  COALINDIA.NSweight  \n",
       "0             0.190920       0.128512          0.220359            0.180809  \n",
       "1             0.251471       0.068545          0.205170            0.052282  \n",
       "2             0.073927       0.238395          0.131393            0.247250  \n",
       "3             0.028834       0.185662          0.156593            0.072236  \n",
       "4             0.033305       0.067990          0.285959            0.158435  "
      ]
     },
     "execution_count": 204,
     "metadata": {},
     "output_type": "execute_result"
    }
   ],
   "source": [
    "portfolios_V1_test = pd.DataFrame(data_final_test)\n",
    "portfolios_V1_test.head()"
   ]
  },
  {
   "cell_type": "code",
   "execution_count": 205,
   "id": "502bff32",
   "metadata": {},
   "outputs": [
    {
     "data": {
      "text/plain": [
       "Returns                0.032236\n",
       "Volatility             0.127363\n",
       "SBIN.NSweight          0.048080\n",
       "TATAPOWER.NSweight     0.225869\n",
       "ADANIPOWER.BOweight    0.002152\n",
       "INFY.BOweight          0.125702\n",
       "HCLTECH.NSweight       0.359352\n",
       "COALINDIA.NSweight     0.238845\n",
       "Name: 1719, dtype: float64"
      ]
     },
     "execution_count": 205,
     "metadata": {},
     "output_type": "execute_result"
    }
   ],
   "source": [
    "min_vol_port_test=portfolios_V1_test.iloc[portfolios_V1_test[\"Volatility\"].idxmin()]\n",
    "min_vol_port_test"
   ]
  },
  {
   "cell_type": "code",
   "execution_count": 212,
   "id": "c8f543a6",
   "metadata": {},
   "outputs": [],
   "source": [
    "A=[0.048080,0.225869,0.002152,0.125702,0.359352,0.238845]\n",
    "B=[0.067572,0.208383,0.000216,0.296193,0.158488,0.269148]\n"
   ]
  },
  {
   "cell_type": "code",
   "execution_count": 211,
   "id": "5e9528fd",
   "metadata": {},
   "outputs": [
    {
     "name": "stdout",
     "output_type": "stream",
     "text": [
      "[-0.019491999999999995, 0.017485999999999974, 0.0019359999999999998, -0.17049099999999998, 0.20086400000000001, -0.030302999999999997]\n"
     ]
    }
   ],
   "source": [
    "difference = []\n",
    "\n",
    "\n",
    "zip_object = zip(A, B)\n",
    "for A_i, B_i in zip_object:\n",
    "    difference.append(A_i-B_i)\n",
    "\n",
    "\n",
    "print(difference)"
   ]
  },
  {
   "cell_type": "markdown",
   "id": "2af23714",
   "metadata": {},
   "source": [
    "## So from the above observation we can see that there is a \n",
    "\n",
    "### a.) 1.94% decrease in weight of SBI\n",
    "### b.) 1.74% increase in weight of Tata Power\n",
    "### c.) 0.193% increase in weight of Adani Power\n",
    "### d.) 17.04% decrease in weight of Infosys\n",
    "### e.) 20% increase in weight of HCL Technology\n",
    "### f.) 3.02% decrease in weight of Coal India\n",
    "\n",
    "### So from this we can conclude that all the shares except the Infosys and HCL shares have been almost the same except of some mere 1% or  2% difference but there is also a reason for the large difference in the Infosys and HCL shares and that is their Beta value they are technology shares andhave a huge beta so due to this there is a large difference in both of them"
   ]
  },
  {
   "cell_type": "code",
   "execution_count": null,
   "id": "00d77e29",
   "metadata": {},
   "outputs": [],
   "source": []
  }
 ],
 "metadata": {
  "kernelspec": {
   "display_name": "Python 3",
   "language": "python",
   "name": "python3"
  },
  "language_info": {
   "codemirror_mode": {
    "name": "ipython",
    "version": 3
   },
   "file_extension": ".py",
   "mimetype": "text/x-python",
   "name": "python",
   "nbconvert_exporter": "python",
   "pygments_lexer": "ipython3",
   "version": "3.8.8"
  }
 },
 "nbformat": 4,
 "nbformat_minor": 5
}
